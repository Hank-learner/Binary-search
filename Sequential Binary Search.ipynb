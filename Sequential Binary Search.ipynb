{
 "cells": [
  {
   "cell_type": "markdown",
   "metadata": {},
   "source": [
    "# Sequential Binary Search\n",
    "\n",
    "n sorted integer elements in an array list, \n",
    "searching for a position of value x in the list"
   ]
  },
  {
   "cell_type": "markdown",
   "metadata": {},
   "source": [
    "Function to search the list\n",
    "Input:\n",
    "starting index: l\n",
    "ending index: r\n",
    "search value: x\n",
    "(integers)\n",
    "Output:\n",
    "index || -1 (integer)"
   ]
  },
  {
   "cell_type": "code",
   "execution_count": 1,
   "metadata": {},
   "outputs": [],
   "source": [
    "import time"
   ]
  },
  {
   "cell_type": "code",
   "execution_count": 2,
   "metadata": {},
   "outputs": [],
   "source": [
    "def binarySearch (arr, l, r, x): \n",
    "    if r >= l: \n",
    "        mid = l + (r - l) // 2\n",
    "        if arr[mid] == x: \n",
    "            return mid \n",
    "        elif arr[mid] > x: \n",
    "            return binarySearch(arr, l, mid-1, x) \n",
    "        else: \n",
    "            return binarySearch(arr, mid + 1, r, x) \n",
    "    else:\n",
    "        return -1"
   ]
  },
  {
   "cell_type": "markdown",
   "metadata": {},
   "source": [
    "input array and search value x"
   ]
  },
  {
   "cell_type": "code",
   "execution_count": 3,
   "metadata": {},
   "outputs": [],
   "source": [
    "sortedArray=[]\n",
    "n=100000\n",
    "\n",
    "for i in range(0, n): \n",
    "    ele = random.randint(sortedArray[i],sortedArray[i]+1000)\n",
    "    sortedArray.append(ele)\n",
    "    \n",
    "x=sortedArray[random.randint(1,n)]"
   ]
  },
  {
   "cell_type": "markdown",
   "metadata": {},
   "source": [
    "executing sample data"
   ]
  },
  {
   "cell_type": "code",
   "execution_count": 4,
   "metadata": {},
   "outputs": [
    {
     "name": "stdout",
     "output_type": "stream",
     "text": [
      "Element is present at index  3\n",
      "Runtime of the program is 0.00021314620971679688\n"
     ]
    }
   ],
   "source": [
    "start = time.time()\n",
    "result = binarySearch(arr, 0, len(arr)-1, x) \n",
    "end = time.time()\n",
    "\n",
    "if result != -1: \n",
    "    print (\"Element is present at index % d\" % result) \n",
    "else: \n",
    "    print (\"Element is not present in array\")\n",
    "    \n",
    "print(f\"Runtime of the program is {end - start}\")"
   ]
  }
 ],
 "metadata": {
  "kernelspec": {
   "display_name": "Python 3",
   "language": "python",
   "name": "python3"
  },
  "language_info": {
   "codemirror_mode": {
    "name": "ipython",
    "version": 3
   },
   "file_extension": ".py",
   "mimetype": "text/x-python",
   "name": "python",
   "nbconvert_exporter": "python",
   "pygments_lexer": "ipython3",
   "version": "3.6.9"
  }
 },
 "nbformat": 4,
 "nbformat_minor": 4
}
